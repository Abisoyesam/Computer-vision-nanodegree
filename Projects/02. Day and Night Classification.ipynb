{
 "cells": [
  {
   "cell_type": "markdown",
   "id": "cbd043fa",
   "metadata": {},
   "source": [
    "# Day & Night Classification Challenge\n",
    "\n",
    "Before classifying an image, the steps are as follows:\n",
    "* **Visualize the data:** Visualizing the data to identify any pattern in the image data.\n",
    "* **Label the image:** Label is like a tag attached to specific image that gives information about the image. Image can have multiple label that describe it.\n",
    "* For the challenge we have **day and night label** for the images. You can tell if an image is night or day, but a computer cannot unless we tell it explicitly with a label!\n",
    "* **Clasifier:** A classifier takes in an image *true label* as input and should output a *predicted_label* that tells us the predicted class of that image.\n",
    "\n",
    "* **Accuracy of classified model:** $\\dfrac{correct\\,classified\\, images}{total\\, number\\,of\\,images}$\n",
    "\n",
    "* **Numerical Label:** It is a good practise to use numerical label instead of string or categorical label. 1 rep day while 0 rep night.\n",
    "\n",
    "* **Features:** These are unique, recognizable under varying conditions, and measurable traits that distinguishes an image from another.\n",
    "* **Preprocess & Standardized:** To extract a feature from an image, you have to preprocess and standardized it.\n",
    "\n",
    "**Question:** After visualizing the day and night images, what traits do you think distinguish the two classes?\n",
    "\n",
    "**Answer:** \n",
    "* You may have thought about the sky: a day image has a bright and sometimes blue sky, and is generally brighter. \n",
    "* Night images also often contain artificial lights, and so they have some small, very bright areas and a mostly dark background."
   ]
  },
  {
   "cell_type": "markdown",
   "id": "4711ee4a",
   "metadata": {},
   "source": [
    "### Numerical Labels\n",
    "\n",
    "We often convert categorical value to numerical labels. It can be done by two main approaches:\n",
    "1. **Integer Encoding:** Integer encoding means to assign each category value an integer value. So, day = 1 and night = 0. This is a nice way to separate binary data, and it's what we'll do for our day and night images.\n",
    "2. **One-hot Encoding:** One-hot encoding is often used when there are more than 2 values to separate. A one-hot label is a 1D list. For example, let's we have `'cat', 'lion', 'tiger', 'dog'` which are catergorical value, the one hot encoding can be `[0,0,1,0]` that is, `[cat value, lion value, tiger value, dog value]` hence, the 1 indicates which class a certain image is; which is `tiger`."
   ]
  },
  {
   "cell_type": "code",
   "execution_count": 1,
   "id": "8ccc6b4e",
   "metadata": {},
   "outputs": [],
   "source": [
    "## Day & Night Classifier\n",
    "\n",
    "import cv2\n",
    "import numpy as np\n",
    "import matplotlib.pyplot as plt"
   ]
  },
  {
   "cell_type": "code",
   "execution_count": 3,
   "id": "251a9687",
   "metadata": {},
   "outputs": [],
   "source": [
    "training_images = r'C:\\Users\\AD\\Documents\\Learn\\Computer Vision\\Computer Vision Nanodegree\\images\\day_night_images\\training' \n",
    "testing_images = r'C:\\Users\\AD\\Documents\\Learn\\Computer Vision\\Computer Vision Nanodegree\\images\\day_night_images\\test'"
   ]
  },
  {
   "cell_type": "code",
   "execution_count": null,
   "id": "fa82a71d",
   "metadata": {},
   "outputs": [],
   "source": []
  }
 ],
 "metadata": {
  "kernelspec": {
   "display_name": "Python 3",
   "language": "python",
   "name": "python3"
  },
  "language_info": {
   "codemirror_mode": {
    "name": "ipython",
    "version": 3
   },
   "file_extension": ".py",
   "mimetype": "text/x-python",
   "name": "python",
   "nbconvert_exporter": "python",
   "pygments_lexer": "ipython3",
   "version": "3.8.8"
  }
 },
 "nbformat": 4,
 "nbformat_minor": 5
}
